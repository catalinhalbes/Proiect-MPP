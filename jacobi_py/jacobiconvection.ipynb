{
 "cells": [
  {
   "cell_type": "markdown",
   "metadata": {},
   "source": [
    "## MPP Problem for Practical Project\n",
    "\n",
    "# STEADY FREE CONVECTION IN A RECTANGULAR CAVITY FILLED WITH A POROUS MEDIUM\n",
    "\n",
    "### Exploratory notebook\n",
    "\n",
    "This notebook is used to offer a reference sequential Jacobi implementation of the simulator and to visualize to results obtained."
   ]
  },
  {
   "cell_type": "markdown",
   "metadata": {},
   "source": [
    "### Simulation parameters"
   ]
  },
  {
   "cell_type": "markdown",
   "metadata": {},
   "source": [
    "In a left-handed Cartesian coordinate system, we assume a cavity of height ``h`` along the z axis, divided in ``N`` cells (``N3``), and lengths ``Ax*h``, ``Ay*h``, where ``Ax`` and ``Ay`` are aspect ratios for the cavity's dimensions. For simplification, in continuous form, ``0<=h<=1``. The cells are considered form an equidistant grid, so that ``dx=dy=dz``.\n",
    "\n",
    "Two walls (``x==0`` and ``x==Ax*h``) are considered to have a constant ``T0`` temperature, though this can be parametrized to support a \"hot wall\" (``Th`` at ``x==0``) and a \"cold wall\" (``Tc`` at ``x==Ax*h``). \n",
    "\n",
    "Kinematic viscosity along z axis is not accounted for and considered to be 0."
   ]
  },
  {
   "cell_type": "code",
   "execution_count": 1,
   "metadata": {},
   "outputs": [],
   "source": [
    "# libraries\n",
    "import numpy as np\n",
    "import matplotlib.pyplot as plt\n",
    "from copy import deepcopy\n",
    "\n",
    "# simulation parameters\n",
    "Ra = 1000\n",
    "T0 = 0\n",
    "Th = 0 # can swap for custom temperature, e.g. 1\n",
    "Tc = 0 # can swap for custom temperature, e.g. 0\n",
    "\n",
    "# cavity parameters\n",
    "h = 1\n",
    "N = 25\n",
    "Ax = 1\n",
    "Ay = 1\n",
    "\n",
    "N1 = N * Ax\n",
    "N2 = N * Ay\n",
    "N3 = N\n",
    "\n",
    "# cell size\n",
    "d = h / N\n",
    "\n",
    "# grid\n",
    "u = np.zeros((N1, N2, N3))\n",
    "v = np.zeros((N1, N2, N3))\n",
    "t = np.zeros((N1, N2, N3))\n",
    "\n",
    "# constant temperature walls condition\n",
    "t[0,:,:] = np.full((N2, N3), Th)\n",
    "t[N1-1,:,:] = np.full((N2, N3), Tc)\n",
    "\n",
    "# auxiliary grid\n",
    "u_new = deepcopy(u)\n",
    "v_new = deepcopy(v)\n",
    "t_new = deepcopy(t)"
   ]
  },
  {
   "cell_type": "markdown",
   "metadata": {},
   "source": [
    "### Simulation\n",
    "Results of the simulation will be placed in a folder ``output/`` (please make sure it exists before running the cell)."
   ]
  },
  {
   "cell_type": "markdown",
   "metadata": {},
   "source": [
    "Jacobi iteration"
   ]
  },
  {
   "cell_type": "code",
   "execution_count": 2,
   "metadata": {},
   "outputs": [],
   "source": [
    "err_u=0\n",
    "err_v=0\n",
    "err_t=0\n",
    "\n",
    "def jacobi_iteration():\n",
    "    global u, v, t, u_new, v_new, t_new, err_u, err_v, err_t\n",
    "\n",
    "    for i in range(1, N1 - 1):\n",
    "        for j in range(1, N2 - 1):\n",
    "            for k in range(1, N3 - 1):\n",
    "                u_new[i,j,k] = Ra*d/12 * (t[i,j+1,k] - t[i,j-1,k]) + \\\n",
    "                    1/6 * (\n",
    "                        u[i-1,j,k] + u[i+1,j,k] + \\\n",
    "                        u[i,j-1,k] + u[i,j+1,k] + \\\n",
    "                        u[i,j,k-1] + u[i,j,k+1]\n",
    "                    )\n",
    "                \n",
    "                v_new[i,j,k] = Ra*d/12 * (t[i+1,j,k] - t[i-1,j,k]) + \\\n",
    "                    1/6 * (\n",
    "                        v[i-1,j,k] + v[i+1,j,k] + \\\n",
    "                        v[i,j-1,k] + v[i,j+1,k] + \\\n",
    "                        v[i,j,k-1] + v[i,j,k+1]\n",
    "                    )\n",
    "                \n",
    "                t_new[i,j,k] = 1/6 * ( \\\n",
    "                    t[i-1,j,k] + t[i+1,j,k] + \\\n",
    "                    t[i,j-1,k] + t[i,j+1,k] + \\\n",
    "                    t[i,j,k-1] + t[i,j,k+1] + \\\n",
    "                d * d \\\n",
    "                - \\\n",
    "                1/4 * (\n",
    "                    (u[i,j,k+1]-u[i,j,k-1]) * (t[i,j+1,k]-t[i,j-1,k]) - \\\n",
    "                    (u[i,j+1,k]-u[i,j-1,k]) * (t[i,j,k+1]-t[i,j,k-1]) \\\n",
    "                    + \\\n",
    "                    (v[i+1,j,k]-v[i-1,j,k]) * (t[i,j,k+1]-t[i,j,k-1]) - \\\n",
    "                    (v[i,j,k+1]-v[i,j,k-1]) * (t[i+1,j,k]-t[i-1,j,k])\n",
    "                    )\n",
    "                )\n",
    "                # error evaluation\n",
    "                erru = abs(u[i,j,k] - u_new[i,j,k])\n",
    "                errv = abs(v[i,j,k] - v_new[i,j,k])\n",
    "                errt = abs(t[i,j,k] - t_new[i,j,k])\n",
    "                err_u = max(err_u, erru)\n",
    "                err_v = max(err_v, errv)\n",
    "                err_t = max(err_t, errt)\n",
    "\n",
    "    # adiabatic wall conditions\n",
    "    #  bottom/top walls => constant z\n",
    "    t_new[:,:,0] = deepcopy(t[:,:,1])\n",
    "    t_new[:,:,N3-1] = deepcopy(t[:,:,N3-2])\n",
    "    #  back/front walls => constant y (LHS)\n",
    "    #  or left/right if RHS\n",
    "    t_new[:,0,:] = deepcopy(t[:,1,:])\n",
    "    t_new[:,N2-1,:] = deepcopy(t[:,N2-2,:])\n",
    "    \n",
    "    # swap\n",
    "    (u, u_new) = (u_new, u)\n",
    "    (v, v_new) = (v_new, v)\n",
    "    (t, t_new) = (t_new, t)"
   ]
  },
  {
   "cell_type": "markdown",
   "metadata": {},
   "source": [
    "Plotting functions"
   ]
  },
  {
   "cell_type": "code",
   "execution_count": 3,
   "metadata": {},
   "outputs": [],
   "source": [
    "X, Y, Z = np.meshgrid(np.arange(N1), np.arange(N2), -np.arange(N3))\n",
    "\n",
    "def plotContourCube():\n",
    "    fig = plt.figure()\n",
    "    ax = fig.add_subplot(111, projection=\"3d\")\n",
    "\n",
    "    intv = 10\n",
    "    vmin = 0 #t.min()\n",
    "    vmax = 1 #t.max()\n",
    "\n",
    "    kw = {\n",
    "        'vmin': vmin,\n",
    "        'vmax': vmax,\n",
    "        'levels': np.linspace(vmin, vmax, 100),\n",
    "    }\n",
    "\n",
    "    _ = ax.contourf(\n",
    "        X[:, :, 0], Y[:, :, 0], t[:, :, 0],\n",
    "        zdir='z', offset=0, **kw\n",
    "    )\n",
    "    _ = ax.contourf(\n",
    "        X[0, :, :], t[0, :, :], Z[0, :, :],\n",
    "        zdir='y', offset=0, **kw\n",
    "    )\n",
    "    C = ax.contourf(\n",
    "        t[:, -1, :], Y[:, -1, :], Z[:, -1, :],\n",
    "        zdir='x', offset=X.max(), **kw\n",
    "    )\n",
    "\n",
    "    xmin, xmax = X.min(), X.max()\n",
    "    ymin, ymax = Y.min(), Y.max()\n",
    "    zmin, zmax = Z.min(), Z.max()\n",
    "    ax.set(xlim=[xmin, xmax], ylim=[ymin, ymax], zlim=[zmin, zmax])\n",
    "\n",
    "    edges_kw = dict(color='0.4', linewidth=1, zorder=1e3)\n",
    "    ax.plot([xmax, xmax], [ymin, ymax], 0, **edges_kw)\n",
    "    ax.plot([xmin, xmax], [ymin, ymin], 0, **edges_kw)\n",
    "    ax.plot([xmax, xmax], [ymin, ymin], [zmin, zmax], **edges_kw)\n",
    "    \n",
    "    # account for LHS-RHS difference\n",
    "    ax.set(\n",
    "        xlabel='Y',\n",
    "        ylabel='X',\n",
    "        zlabel='Z'\n",
    "    )\n",
    "\n",
    "    ax.view_init(40, -30, 0)\n",
    "    ax.set_box_aspect(None, zoom=0.9)\n",
    "\n",
    "    fig.colorbar(C, ax=ax, fraction=0.02, pad=0.1, label='Temperature')"
   ]
  },
  {
   "cell_type": "markdown",
   "metadata": {},
   "source": [
    "Manual iteration"
   ]
  },
  {
   "cell_type": "code",
   "execution_count": 4,
   "metadata": {},
   "outputs": [],
   "source": [
    "#jacobi_iteration()"
   ]
  },
  {
   "cell_type": "code",
   "execution_count": 5,
   "metadata": {},
   "outputs": [],
   "source": [
    "#plotContourCube()"
   ]
  },
  {
   "cell_type": "code",
   "execution_count": 6,
   "metadata": {},
   "outputs": [],
   "source": [
    "#plt.close()"
   ]
  },
  {
   "cell_type": "markdown",
   "metadata": {},
   "source": [
    "Main loop"
   ]
  },
  {
   "cell_type": "code",
   "execution_count": 7,
   "metadata": {},
   "outputs": [],
   "source": [
    "# termination conditions\n",
    "#  maximum amount of iterations if not yet converged\n",
    "max_iter = 1000\n",
    "#  epsilon\n",
    "eps = 1e-9\n",
    "\n",
    "iter = 0\n",
    "stop = False\n",
    "\n",
    "while not stop:\n",
    "    # plot\n",
    "    if iter % 10 == 0:\n",
    "        plotContourCube()\n",
    "        plt.savefig(f\"output/t{iter}\")\n",
    "        plt.close()\n",
    "\n",
    "    jacobi_iteration()\n",
    "    \n",
    "    iter += 1\n",
    "    if (iter >= max_iter):\n",
    "        stop = True\n",
    "    elif (err_u < eps and err_v < eps and err_t < eps):\n",
    "        stop = True"
   ]
  }
 ],
 "metadata": {
  "kernelspec": {
   "display_name": "Python 3",
   "language": "python",
   "name": "python3"
  },
  "language_info": {
   "codemirror_mode": {
    "name": "ipython",
    "version": 3
   },
   "file_extension": ".py",
   "mimetype": "text/x-python",
   "name": "python",
   "nbconvert_exporter": "python",
   "pygments_lexer": "ipython3",
   "version": "3.12.0"
  }
 },
 "nbformat": 4,
 "nbformat_minor": 2
}
